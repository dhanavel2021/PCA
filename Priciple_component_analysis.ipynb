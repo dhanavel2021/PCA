{
  "nbformat": 4,
  "nbformat_minor": 0,
  "metadata": {
    "colab": {
      "name": " Priciple component analysis.ipynb",
      "provenance": []
    },
    "kernelspec": {
      "name": "python3",
      "display_name": "Python 3"
    },
    "language_info": {
      "name": "python"
    }
  },
  "cells": [
    {
      "cell_type": "code",
      "execution_count": null,
      "metadata": {
        "id": "102u2FWzRRl2"
      },
      "outputs": [],
      "source": [
        "import sklearn \n",
        "from sklearn.datasets import load_iris"
      ]
    },
    {
      "cell_type": "code",
      "source": [
        "data = load_iris()"
      ],
      "metadata": {
        "id": "MFEphojGSInO"
      },
      "execution_count": null,
      "outputs": []
    },
    {
      "cell_type": "code",
      "source": [
        "data.keys()"
      ],
      "metadata": {
        "colab": {
          "base_uri": "https://localhost:8080/"
        },
        "id": "eZVmLr4RSNc8",
        "outputId": "f657652a-f8dc-44a3-b63c-6c41377150d5"
      },
      "execution_count": null,
      "outputs": [
        {
          "output_type": "execute_result",
          "data": {
            "text/plain": [
              "dict_keys(['data', 'target', 'frame', 'target_names', 'DESCR', 'feature_names', 'filename', 'data_module'])"
            ]
          },
          "metadata": {},
          "execution_count": 4
        }
      ]
    },
    {
      "cell_type": "code",
      "source": [
        "x = data.data "
      ],
      "metadata": {
        "id": "KPMZpjjvScp9"
      },
      "execution_count": null,
      "outputs": []
    },
    {
      "cell_type": "code",
      "source": [
        "y = data.target"
      ],
      "metadata": {
        "id": "By3qKR9MSjT0"
      },
      "execution_count": null,
      "outputs": []
    },
    {
      "cell_type": "code",
      "source": [
        "from sklearn.model_selection import train_test_split"
      ],
      "metadata": {
        "id": "tr-X9WH8S1MT"
      },
      "execution_count": null,
      "outputs": []
    },
    {
      "cell_type": "code",
      "source": [
        "x_train,x_test,y_train,y_test = train_test_split(x,y, test_size=0.25, random_state=0)"
      ],
      "metadata": {
        "id": "l6REICtiS9xl"
      },
      "execution_count": null,
      "outputs": []
    },
    {
      "cell_type": "code",
      "source": [
        "from sklearn.linear_model import LogisticRegression"
      ],
      "metadata": {
        "id": "1TYx7y_ZTLNh"
      },
      "execution_count": null,
      "outputs": []
    },
    {
      "cell_type": "code",
      "source": [
        "model = LogisticRegression()"
      ],
      "metadata": {
        "id": "vf5ivZvaTnAR"
      },
      "execution_count": null,
      "outputs": []
    },
    {
      "cell_type": "code",
      "source": [
        "model.fit(x_train,y_train)"
      ],
      "metadata": {
        "colab": {
          "base_uri": "https://localhost:8080/"
        },
        "id": "vITcPFDQTufV",
        "outputId": "7d36df35-a444-4b7f-e0d5-7a1d861adf7f"
      },
      "execution_count": null,
      "outputs": [
        {
          "output_type": "stream",
          "name": "stderr",
          "text": [
            "/usr/local/lib/python3.7/dist-packages/sklearn/linear_model/_logistic.py:818: ConvergenceWarning: lbfgs failed to converge (status=1):\n",
            "STOP: TOTAL NO. of ITERATIONS REACHED LIMIT.\n",
            "\n",
            "Increase the number of iterations (max_iter) or scale the data as shown in:\n",
            "    https://scikit-learn.org/stable/modules/preprocessing.html\n",
            "Please also refer to the documentation for alternative solver options:\n",
            "    https://scikit-learn.org/stable/modules/linear_model.html#logistic-regression\n",
            "  extra_warning_msg=_LOGISTIC_SOLVER_CONVERGENCE_MSG,\n"
          ]
        },
        {
          "output_type": "execute_result",
          "data": {
            "text/plain": [
              "LogisticRegression()"
            ]
          },
          "metadata": {},
          "execution_count": 11
        }
      ]
    },
    {
      "cell_type": "code",
      "source": [
        "pre = model.predict(x_test)"
      ],
      "metadata": {
        "id": "mvJmAqK7TyKE"
      },
      "execution_count": null,
      "outputs": []
    },
    {
      "cell_type": "code",
      "source": [
        "model.predict_proba(x_test)"
      ],
      "metadata": {
        "colab": {
          "base_uri": "https://localhost:8080/"
        },
        "id": "cYknKjwaTzwo",
        "outputId": "8dd29bee-ea1c-4e4b-a3b3-1e6341ed1bee"
      },
      "execution_count": null,
      "outputs": [
        {
          "output_type": "execute_result",
          "data": {
            "text/plain": [
              "array([[1.17923243e-04, 5.61474939e-02, 9.43734583e-01],\n",
              "       [1.26289849e-02, 9.60454271e-01, 2.69167439e-02],\n",
              "       [9.84397624e-01, 1.56023379e-02, 3.85601361e-08],\n",
              "       [1.25175817e-06, 2.31521730e-02, 9.76846575e-01],\n",
              "       [9.70234867e-01, 2.97649702e-02, 1.62594108e-07],\n",
              "       [2.01666651e-06, 5.94449921e-03, 9.94053484e-01],\n",
              "       [9.81899529e-01, 1.81004002e-02, 7.04404963e-08],\n",
              "       [2.84241420e-03, 7.47091076e-01, 2.50066510e-01],\n",
              "       [1.50915508e-03, 7.38522134e-01, 2.59968711e-01],\n",
              "       [2.05288504e-02, 9.35891507e-01, 4.35796421e-02],\n",
              "       [9.22412824e-05, 1.59471389e-01, 8.40436370e-01],\n",
              "       [6.98628284e-03, 8.09991790e-01, 1.83021928e-01],\n",
              "       [4.08220813e-03, 7.93601951e-01, 2.02315841e-01],\n",
              "       [3.05681906e-03, 7.60909907e-01, 2.36033274e-01],\n",
              "       [3.87699929e-03, 7.10277114e-01, 2.85845887e-01],\n",
              "       [9.82815612e-01, 1.71843316e-02, 5.65430788e-08],\n",
              "       [6.72902085e-03, 7.56466249e-01, 2.36804730e-01],\n",
              "       [1.14292080e-02, 8.45110402e-01, 1.43460390e-01],\n",
              "       [9.67582295e-01, 3.24174912e-02, 2.14229198e-07],\n",
              "       [9.82872096e-01, 1.71278446e-02, 5.96846490e-08],\n",
              "       [8.34493757e-04, 1.93259237e-01, 8.05906270e-01],\n",
              "       [1.03256047e-02, 7.11149394e-01, 2.78525002e-01],\n",
              "       [9.44128949e-01, 5.58700022e-02, 1.04833972e-06],\n",
              "       [9.75498658e-01, 2.45011749e-02, 1.67514973e-07],\n",
              "       [1.36907059e-03, 4.26370486e-01, 5.72260443e-01],\n",
              "       [9.94203376e-01, 5.79661469e-03, 9.65238269e-09],\n",
              "       [9.50240477e-01, 4.97583907e-02, 1.13235135e-06],\n",
              "       [1.07122788e-02, 9.00995460e-01, 8.82922615e-02],\n",
              "       [1.40885786e-01, 8.52873301e-01, 6.24091281e-03],\n",
              "       [9.61492052e-01, 3.85074987e-02, 4.49495283e-07],\n",
              "       [9.90724273e-05, 1.15643854e-01, 8.84257073e-01],\n",
              "       [1.19870457e-02, 6.84361848e-01, 3.03651106e-01],\n",
              "       [9.68058518e-01, 3.19413315e-02, 1.50140441e-07],\n",
              "       [1.28526244e-03, 3.57780855e-01, 6.40933883e-01],\n",
              "       [1.48832672e-05, 3.38266624e-02, 9.66158454e-01],\n",
              "       [4.81306381e-02, 8.80739984e-01, 7.11293777e-02],\n",
              "       [9.44629244e-01, 5.53703649e-02, 3.91104641e-07],\n",
              "       [6.02620084e-04, 3.11029477e-01, 6.88367903e-01]])"
            ]
          },
          "metadata": {},
          "execution_count": 13
        }
      ]
    },
    {
      "cell_type": "code",
      "source": [
        "from sklearn.metrics import accuracy_score\n",
        "from sklearn.metrics import confusion_matrix\n",
        "from sklearn.metrics import classification_report"
      ],
      "metadata": {
        "id": "I78B8wGTT9Gp"
      },
      "execution_count": null,
      "outputs": []
    },
    {
      "cell_type": "code",
      "source": [
        "accuracy_score(y_test,pre)"
      ],
      "metadata": {
        "colab": {
          "base_uri": "https://localhost:8080/"
        },
        "id": "VwnV_HUqUHeg",
        "outputId": "167a805a-5822-49c5-f8d7-93c8f3de643b"
      },
      "execution_count": null,
      "outputs": [
        {
          "output_type": "execute_result",
          "data": {
            "text/plain": [
              "0.9736842105263158"
            ]
          },
          "metadata": {},
          "execution_count": 15
        }
      ]
    },
    {
      "cell_type": "code",
      "source": [
        "confusion_matrix(y_test,pre)"
      ],
      "metadata": {
        "colab": {
          "base_uri": "https://localhost:8080/"
        },
        "id": "yqpmh7XbULm0",
        "outputId": "fdabb884-f7c0-4353-d585-1980c7eec217"
      },
      "execution_count": null,
      "outputs": [
        {
          "output_type": "execute_result",
          "data": {
            "text/plain": [
              "array([[13,  0,  0],\n",
              "       [ 0, 15,  1],\n",
              "       [ 0,  0,  9]])"
            ]
          },
          "metadata": {},
          "execution_count": 16
        }
      ]
    },
    {
      "cell_type": "code",
      "source": [
        "z = classification_report(y_test,pre)\n",
        "print(z)"
      ],
      "metadata": {
        "colab": {
          "base_uri": "https://localhost:8080/"
        },
        "id": "gvX0YQWmUQyk",
        "outputId": "06afa395-18d4-4fb9-fac8-f01d8c161f4f"
      },
      "execution_count": null,
      "outputs": [
        {
          "output_type": "stream",
          "name": "stdout",
          "text": [
            "              precision    recall  f1-score   support\n",
            "\n",
            "           0       1.00      1.00      1.00        13\n",
            "           1       1.00      0.94      0.97        16\n",
            "           2       0.90      1.00      0.95         9\n",
            "\n",
            "    accuracy                           0.97        38\n",
            "   macro avg       0.97      0.98      0.97        38\n",
            "weighted avg       0.98      0.97      0.97        38\n",
            "\n"
          ]
        }
      ]
    },
    {
      "cell_type": "code",
      "source": [
        "x_train.shape"
      ],
      "metadata": {
        "colab": {
          "base_uri": "https://localhost:8080/"
        },
        "id": "XkcTKSwQALBQ",
        "outputId": "bbbe6f7f-24ec-4260-b953-195c525e2aef"
      },
      "execution_count": null,
      "outputs": [
        {
          "output_type": "execute_result",
          "data": {
            "text/plain": [
              "(112, 4)"
            ]
          },
          "metadata": {},
          "execution_count": 39
        }
      ]
    },
    {
      "cell_type": "code",
      "source": [
        "from sklearn.decomposition import PCA"
      ],
      "metadata": {
        "id": "3-O-C44-UXh8"
      },
      "execution_count": null,
      "outputs": []
    },
    {
      "cell_type": "code",
      "source": [
        "pca = PCA(n_components=0.95)"
      ],
      "metadata": {
        "id": "QHQkP4lgUcDq"
      },
      "execution_count": null,
      "outputs": []
    },
    {
      "cell_type": "code",
      "source": [
        "pca.fit(x_train)"
      ],
      "metadata": {
        "colab": {
          "base_uri": "https://localhost:8080/"
        },
        "id": "6ViMWZcvVdxA",
        "outputId": "fd8f55b3-0d54-4d9b-a08d-58e8c4481898"
      },
      "execution_count": null,
      "outputs": [
        {
          "output_type": "execute_result",
          "data": {
            "text/plain": [
              "PCA(n_components=0.95)"
            ]
          },
          "metadata": {},
          "execution_count": 21
        }
      ]
    },
    {
      "cell_type": "code",
      "source": [
        "x_train_transformed = pca.transform(x_train)"
      ],
      "metadata": {
        "id": "DIDiErQHViPc"
      },
      "execution_count": null,
      "outputs": []
    },
    {
      "cell_type": "code",
      "source": [
        "print(x_train_transformed.shape)"
      ],
      "metadata": {
        "colab": {
          "base_uri": "https://localhost:8080/"
        },
        "id": "D97o4gizVodp",
        "outputId": "eb4da5b5-ebdf-49d7-c308-405a12528a2b"
      },
      "execution_count": null,
      "outputs": [
        {
          "output_type": "stream",
          "name": "stdout",
          "text": [
            "(112, 2)\n"
          ]
        }
      ]
    },
    {
      "cell_type": "code",
      "source": [
        "print(x_train.shape)"
      ],
      "metadata": {
        "colab": {
          "base_uri": "https://localhost:8080/"
        },
        "id": "P5DIjog1WSmb",
        "outputId": "073f3b2f-2a00-4ed2-99ff-571dc7c5148e"
      },
      "execution_count": null,
      "outputs": [
        {
          "output_type": "stream",
          "name": "stdout",
          "text": [
            "(112, 4)\n"
          ]
        }
      ]
    },
    {
      "cell_type": "code",
      "source": [
        "x_test_transformed = pca.transform(x_test)"
      ],
      "metadata": {
        "id": "QJwZLxhxW1Tn"
      },
      "execution_count": null,
      "outputs": []
    },
    {
      "cell_type": "code",
      "source": [
        "print(x_test_transformed.shape)"
      ],
      "metadata": {
        "colab": {
          "base_uri": "https://localhost:8080/"
        },
        "id": "_NkIWFwIW7vh",
        "outputId": "d177d52c-8f1f-48fe-d570-6bbe5943a3f9"
      },
      "execution_count": null,
      "outputs": [
        {
          "output_type": "stream",
          "name": "stdout",
          "text": [
            "(38, 2)\n"
          ]
        }
      ]
    },
    {
      "cell_type": "code",
      "source": [
        "print(x_test.shape)"
      ],
      "metadata": {
        "colab": {
          "base_uri": "https://localhost:8080/"
        },
        "id": "5u40lW8_XASf",
        "outputId": "59f758ae-ef00-4ebb-92c1-f44e822597e9"
      },
      "execution_count": null,
      "outputs": [
        {
          "output_type": "stream",
          "name": "stdout",
          "text": [
            "(38, 4)\n"
          ]
        }
      ]
    },
    {
      "cell_type": "code",
      "source": [
        "n_model =LogisticRegression(penalty='l1',solver='liblinear')"
      ],
      "metadata": {
        "id": "C_e2tQUcXKUe"
      },
      "execution_count": null,
      "outputs": []
    },
    {
      "cell_type": "code",
      "source": [
        "n_model.fit(x_train_transformed,y_train)"
      ],
      "metadata": {
        "colab": {
          "base_uri": "https://localhost:8080/"
        },
        "id": "caTznFRRXcU0",
        "outputId": "2156c8f8-f118-43e6-95c0-461c7b9e6076"
      },
      "execution_count": null,
      "outputs": [
        {
          "output_type": "execute_result",
          "data": {
            "text/plain": [
              "LogisticRegression(penalty='l1', solver='liblinear')"
            ]
          },
          "metadata": {},
          "execution_count": 51
        }
      ]
    },
    {
      "cell_type": "code",
      "source": [
        "n_pre = n_model.predict(x_test_transformed)"
      ],
      "metadata": {
        "id": "k2Sa2jrSXkzv"
      },
      "execution_count": null,
      "outputs": []
    },
    {
      "cell_type": "code",
      "source": [
        "n_model.predict_proba(x_test_transformed)"
      ],
      "metadata": {
        "colab": {
          "base_uri": "https://localhost:8080/"
        },
        "id": "vRCBnPj-X6OR",
        "outputId": "49c8c651-ca35-4d98-d3df-5f6838a7ca0b"
      },
      "execution_count": null,
      "outputs": [
        {
          "output_type": "execute_result",
          "data": {
            "text/plain": [
              "array([[7.54172490e-04, 3.90506863e-01, 6.08738965e-01],\n",
              "       [4.43998058e-02, 8.38534871e-01, 1.17065323e-01],\n",
              "       [9.65503487e-01, 3.44963519e-02, 1.60802564e-07],\n",
              "       [6.18333375e-05, 2.23141080e-01, 7.76797087e-01],\n",
              "       [8.66609192e-01, 1.33390152e-01, 6.56518386e-07],\n",
              "       [1.18219766e-04, 2.84099194e-01, 7.15782586e-01],\n",
              "       [8.85859615e-01, 1.14140049e-01, 3.36337199e-07],\n",
              "       [1.11741971e-02, 3.93124036e-01, 5.95701767e-01],\n",
              "       [5.20822368e-03, 3.53612227e-01, 6.41179549e-01],\n",
              "       [8.10464657e-02, 8.07747116e-01, 1.11206418e-01],\n",
              "       [4.62185257e-04, 3.77716344e-01, 6.21821470e-01],\n",
              "       [2.87579648e-02, 5.65588217e-01, 4.05653819e-01],\n",
              "       [1.08401259e-02, 5.64954212e-01, 4.24205662e-01],\n",
              "       [9.50322712e-03, 4.75154994e-01, 5.15341779e-01],\n",
              "       [9.69019795e-03, 5.31353418e-01, 4.58956384e-01],\n",
              "       [8.87851527e-01, 1.12148176e-01, 2.96609681e-07],\n",
              "       [1.66270422e-02, 6.26816699e-01, 3.56556259e-01],\n",
              "       [2.11160780e-02, 7.66195716e-01, 2.12688206e-01],\n",
              "       [7.88911329e-01, 2.11087773e-01, 8.97173408e-07],\n",
              "       [9.46391667e-01, 5.36080965e-02, 2.36775297e-07],\n",
              "       [2.14260017e-03, 4.53315669e-01, 5.44541730e-01],\n",
              "       [1.99914536e-02, 6.99893260e-01, 2.80115286e-01],\n",
              "       [8.23598077e-01, 1.76399609e-01, 2.31431833e-06],\n",
              "       [7.25401547e-01, 2.74597680e-01, 7.73440584e-07],\n",
              "       [3.31628207e-03, 4.11602065e-01, 5.85081653e-01],\n",
              "       [8.75826837e-01, 1.24173080e-01, 8.30819350e-08],\n",
              "       [9.00560915e-01, 9.94372046e-02, 1.88018278e-06],\n",
              "       [4.15948904e-02, 7.22177619e-01, 2.36227490e-01],\n",
              "       [2.15075241e-01, 7.78639292e-01, 6.28546645e-03],\n",
              "       [8.57483399e-01, 1.42515392e-01, 1.20924955e-06],\n",
              "       [6.45361377e-04, 2.77198117e-01, 7.22156522e-01],\n",
              "       [2.01361706e-02, 7.26744409e-01, 2.53119420e-01],\n",
              "       [8.96377535e-01, 1.03621862e-01, 6.02882515e-07],\n",
              "       [3.33826393e-03, 3.95694494e-01, 6.00967242e-01],\n",
              "       [2.37460297e-04, 3.24971110e-01, 6.74791430e-01],\n",
              "       [7.30836940e-02, 8.70905585e-01, 5.60107214e-02],\n",
              "       [9.46115780e-01, 5.38832327e-02, 9.86932907e-07],\n",
              "       [1.57352064e-03, 4.02706133e-01, 5.95720346e-01]])"
            ]
          },
          "metadata": {},
          "execution_count": 53
        }
      ]
    },
    {
      "cell_type": "code",
      "source": [
        "print(y_test)\n",
        "print(pre)\n",
        "print(n_pre)"
      ],
      "metadata": {
        "colab": {
          "base_uri": "https://localhost:8080/"
        },
        "id": "dIA8P5IcYCPx",
        "outputId": "46f6589b-4995-43c3-82f2-3a50a90405ad"
      },
      "execution_count": null,
      "outputs": [
        {
          "output_type": "stream",
          "name": "stdout",
          "text": [
            "[2 1 0 2 0 2 0 1 1 1 2 1 1 1 1 0 1 1 0 0 2 1 0 0 2 0 0 1 1 0 2 1 0 2 2 1 0\n",
            " 1]\n",
            "[2 1 0 2 0 2 0 1 1 1 2 1 1 1 1 0 1 1 0 0 2 1 0 0 2 0 0 1 1 0 2 1 0 2 2 1 0\n",
            " 2]\n",
            "[2 1 0 2 0 2 0 2 2 1 2 1 1 2 1 0 1 1 0 0 2 1 0 0 2 0 0 1 1 0 2 1 0 2 2 1 0\n",
            " 2]\n"
          ]
        }
      ]
    },
    {
      "cell_type": "code",
      "source": [
        "n_accuracy = accuracy_score(y_test,n_pre)"
      ],
      "metadata": {
        "id": "-KHJq7tAZJvq"
      },
      "execution_count": null,
      "outputs": []
    },
    {
      "cell_type": "code",
      "source": [
        "print(n_accuracy)"
      ],
      "metadata": {
        "colab": {
          "base_uri": "https://localhost:8080/"
        },
        "id": "GjhhDw0yZPhX",
        "outputId": "1c47fbec-adc2-4344-83c9-bcef67416b31"
      },
      "execution_count": null,
      "outputs": [
        {
          "output_type": "stream",
          "name": "stdout",
          "text": [
            "0.8947368421052632\n"
          ]
        }
      ]
    },
    {
      "cell_type": "code",
      "source": [
        "n_confusion = confusion_matrix(y_test,n_pre)"
      ],
      "metadata": {
        "id": "rt-IRhoSZdwj"
      },
      "execution_count": null,
      "outputs": []
    },
    {
      "cell_type": "code",
      "source": [
        "n_confusion"
      ],
      "metadata": {
        "colab": {
          "base_uri": "https://localhost:8080/"
        },
        "id": "n_64M9TgZkJT",
        "outputId": "116e1375-4479-4752-d76e-8730907fec8d"
      },
      "execution_count": null,
      "outputs": [
        {
          "output_type": "execute_result",
          "data": {
            "text/plain": [
              "array([[13,  0,  0],\n",
              "       [ 0, 12,  4],\n",
              "       [ 0,  0,  9]])"
            ]
          },
          "metadata": {},
          "execution_count": 58
        }
      ]
    },
    {
      "cell_type": "code",
      "source": [
        "n_classification = classification_report(y_test,n_pre)"
      ],
      "metadata": {
        "id": "azfe7iQBZoE9"
      },
      "execution_count": null,
      "outputs": []
    },
    {
      "cell_type": "code",
      "source": [
        "print(n_classification)"
      ],
      "metadata": {
        "colab": {
          "base_uri": "https://localhost:8080/"
        },
        "id": "0C3rsRUEZv7N",
        "outputId": "e1574ebb-b21a-4131-a022-fe8c537f8d18"
      },
      "execution_count": null,
      "outputs": [
        {
          "output_type": "stream",
          "name": "stdout",
          "text": [
            "              precision    recall  f1-score   support\n",
            "\n",
            "           0       1.00      1.00      1.00        13\n",
            "           1       1.00      0.75      0.86        16\n",
            "           2       0.69      1.00      0.82         9\n",
            "\n",
            "    accuracy                           0.89        38\n",
            "   macro avg       0.90      0.92      0.89        38\n",
            "weighted avg       0.93      0.89      0.90        38\n",
            "\n"
          ]
        }
      ]
    },
    {
      "cell_type": "code",
      "source": [
        ""
      ],
      "metadata": {
        "id": "_JSMx0ixCszC"
      },
      "execution_count": null,
      "outputs": []
    }
  ]
}